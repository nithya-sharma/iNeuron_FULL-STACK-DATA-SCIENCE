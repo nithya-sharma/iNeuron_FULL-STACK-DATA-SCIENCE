{
  "nbformat": 4,
  "nbformat_minor": 0,
  "metadata": {
    "colab": {
      "name": "PBA-1_ineuron.ipynb",
      "provenance": []
    },
    "kernelspec": {
      "name": "python3",
      "display_name": "Python 3"
    },
    "language_info": {
      "name": "python"
    }
  },
  "cells": [
    {
      "cell_type": "markdown",
      "metadata": {
        "id": "TwRuUsNu45H2"
      },
      "source": [
        "#**PYTHON BASIC**"
      ]
    },
    {
      "cell_type": "markdown",
      "metadata": {
        "id": "pGvRnv0484hj"
      },
      "source": [
        "Nithya Sharma   - 4/12/21"
      ]
    },
    {
      "cell_type": "markdown",
      "metadata": {
        "id": "qoRZ0rTt5l6T"
      },
      "source": [
        "# ASSIGNMENT-1"
      ]
    },
    {
      "cell_type": "markdown",
      "metadata": {
        "id": "FZ5vQqCw6hb8"
      },
      "source": [
        "1. In the below elements which of them are values or an expression? eg:- values can be integer or string and expressions will be mathematical operators.\n",
        "\n",
        "*   *\n",
        "*   'hello'\n",
        "*  -87.8\n",
        "*  -\n",
        "*  /\n",
        "*   +\n",
        "*   6"
      ]
    },
    {
      "cell_type": "markdown",
      "metadata": {
        "id": "xmTIc9zzDuul"
      },
      "source": [
        "\n",
        "\n",
        "*   values: int -> -87.8, 6  str-> 'hello'\n",
        "*   expressions: M.Operatons -> * ,- ,/, +"
      ]
    },
    {
      "cell_type": "markdown",
      "metadata": {
        "id": "2LjOnx5U7RRH"
      },
      "source": [
        "**2. What is the difference between string and variable?**\n",
        "\n",
        "a variable is something that can store a value, where as string is something thats assigned to a variable using quotes"
      ]
    },
    {
      "cell_type": "markdown",
      "metadata": {
        "id": "uQknGaHJ9Los"
      },
      "source": [
        "\n",
        "**3. Describe three different data types**\n",
        "\n",
        "*   int() -  integer data type eg: ..,-1,0,1,2,..\n",
        "\n",
        "*   float() - decimal numbers(nos. that are not integers)  eg: 1.0,-4.876\n",
        "\n",
        "*   str() - anything letters numbers ,-:;..symbols that come between \" \" is a string"
      ]
    },
    {
      "cell_type": "markdown",
      "metadata": {
        "id": "pbkTRbUg9WtW"
      },
      "source": [
        "**4. What is an expression made up of? What do all expressions do?**\n",
        "\n",
        "An expression is a combination of values, variables, operators, and calls to functions, expressions need to be evaluated.\n",
        "\n",
        "It combines values & operators and evaluates it into a single value"
      ]
    },
    {
      "cell_type": "markdown",
      "metadata": {
        "id": "qtusATca9WeF"
      },
      "source": [
        "**5. This assignment statements, like spam = 10. What is the difference between an expression and a statement?**\n",
        "\n",
        "statements are like spam = 10\n",
        "there is a variable and a value is assigned to it\n",
        "\n",
        "expressions on the other hand will have variables, operators,etc\n",
        "\n"
      ]
    },
    {
      "cell_type": "markdown",
      "metadata": {
        "id": "NRq-ccxj9zvS"
      },
      "source": [
        "**6. After running the following code, what does the variable bacon contain?**\n",
        "bacon = 22\n",
        "bacon + 1"
      ]
    },
    {
      "cell_type": "markdown",
      "metadata": {
        "id": "otNDGFUF-97l"
      },
      "source": [
        "the variable bacon still contains 22"
      ]
    },
    {
      "cell_type": "code",
      "metadata": {
        "colab": {
          "base_uri": "https://localhost:8080/"
        },
        "id": "0BKxOSr89Vgs",
        "outputId": "e884f1ab-5c91-44dc-fa6e-4e348149621f"
      },
      "source": [
        "bacon = 22\n",
        "bacon + 1"
      ],
      "execution_count": 42,
      "outputs": [
        {
          "output_type": "execute_result",
          "data": {
            "text/plain": [
              "23"
            ]
          },
          "metadata": {},
          "execution_count": 42
        }
      ]
    },
    {
      "cell_type": "code",
      "metadata": {
        "colab": {
          "base_uri": "https://localhost:8080/"
        },
        "id": "AzvZx_vo_JRf",
        "outputId": "d0395470-c627-46b6-edea-fb9a568526bc"
      },
      "source": [
        "bacon"
      ],
      "execution_count": 25,
      "outputs": [
        {
          "output_type": "execute_result",
          "data": {
            "text/plain": [
              "22"
            ]
          },
          "metadata": {},
          "execution_count": 25
        }
      ]
    },
    {
      "cell_type": "markdown",
      "metadata": {
        "id": "foQXjHiw9xm2"
      },
      "source": [
        "**7. What should the values of the following two terms be?**\n",
        "'spam' + 'spamspam'\n",
        "'spam' * 3"
      ]
    },
    {
      "cell_type": "code",
      "metadata": {
        "colab": {
          "base_uri": "https://localhost:8080/",
          "height": 35
        },
        "id": "Qk71K1Ft_S1X",
        "outputId": "9049ff95-ec8c-43ce-ae33-cc3dae86405c"
      },
      "source": [
        "'spam' + 'spamspam' \n",
        "#spamspamspam"
      ],
      "execution_count": 28,
      "outputs": [
        {
          "output_type": "execute_result",
          "data": {
            "application/vnd.google.colaboratory.intrinsic+json": {
              "type": "string"
            },
            "text/plain": [
              "'spamspamspam'"
            ]
          },
          "metadata": {},
          "execution_count": 28
        }
      ]
    },
    {
      "cell_type": "code",
      "metadata": {
        "colab": {
          "base_uri": "https://localhost:8080/",
          "height": 35
        },
        "id": "Jd85WI9U_2-y",
        "outputId": "86b53da2-b040-4111-db12-0461cbd0294b"
      },
      "source": [
        "'spam' * 3\n",
        "#spamspamspam"
      ],
      "execution_count": 30,
      "outputs": [
        {
          "output_type": "execute_result",
          "data": {
            "application/vnd.google.colaboratory.intrinsic+json": {
              "type": "string"
            },
            "text/plain": [
              "'spamspamspam'"
            ]
          },
          "metadata": {},
          "execution_count": 30
        }
      ]
    },
    {
      "cell_type": "markdown",
      "metadata": {
        "id": "SkSJyzT4-PGT"
      },
      "source": [
        "**8. Why is eggs a valid variable name while 100 is invalid?**\n",
        "\n",
        "this is because variable names cant start with values"
      ]
    },
    {
      "cell_type": "markdown",
      "metadata": {
        "id": "x5FFuXr--WP-"
      },
      "source": [
        "**9. What three functions can be used to get the integer, floating-point number, or string version of a value?**\n",
        "\n",
        "int(), float(), str()"
      ]
    },
    {
      "cell_type": "markdown",
      "metadata": {
        "id": "2_k7ifFP-Yg2"
      },
      "source": [
        "**10. Why does this expression cause an error? How can you fix it?**\n",
        "'I have eaten ' + 99 + ' burritos.':"
      ]
    },
    {
      "cell_type": "markdown",
      "metadata": {
        "id": "kJhnXK7rBD6t"
      },
      "source": [
        "'I have eaten ' + 99 + ' burritos.'\n",
        "\n",
        "We get an error because, str and int don't go together, they cant be added subratected or divided"
      ]
    },
    {
      "cell_type": "code",
      "metadata": {
        "colab": {
          "base_uri": "https://localhost:8080/",
          "height": 35
        },
        "id": "ESIVAaK17P6O",
        "outputId": "b5c402d9-2d33-458f-d1eb-1ed5828ed81b"
      },
      "source": [
        "#u can either covert the int to str to make it work \n",
        "'I have eaten ' + '99' + ' burritos.'"
      ],
      "execution_count": 38,
      "outputs": [
        {
          "output_type": "execute_result",
          "data": {
            "application/vnd.google.colaboratory.intrinsic+json": {
              "type": "string"
            },
            "text/plain": [
              "'I have eaten 99 burritos.'"
            ]
          },
          "metadata": {},
          "execution_count": 38
        }
      ]
    },
    {
      "cell_type": "code",
      "metadata": {
        "colab": {
          "base_uri": "https://localhost:8080/",
          "height": 35
        },
        "id": "k6JrAQ7IAy_s",
        "outputId": "20032522-1ce2-451e-84cc-574c7f730331"
      },
      "source": [
        "#or remove the int\n",
        "'I have eaten ' + 'burritos.'"
      ],
      "execution_count": 41,
      "outputs": [
        {
          "output_type": "execute_result",
          "data": {
            "application/vnd.google.colaboratory.intrinsic+json": {
              "type": "string"
            },
            "text/plain": [
              "'I have eaten burritos.'"
            ]
          },
          "metadata": {},
          "execution_count": 41
        }
      ]
    }
  ]
}